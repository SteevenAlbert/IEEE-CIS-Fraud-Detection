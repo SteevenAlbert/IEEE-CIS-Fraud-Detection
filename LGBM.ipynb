{
 "cells": [
  {
   "cell_type": "code",
   "execution_count": 7,
   "metadata": {},
   "outputs": [],
   "source": [
    "import lightgbm as lgb\n",
    "import pandas as pd\n",
    "import numpy as np\n",
    "from sklearn import metrics\n",
    "import pickle\n",
    "from sklearn.model_selection import RandomizedSearchCV"
   ]
  },
  {
   "cell_type": "markdown",
   "metadata": {},
   "source": [
    "# Loading Dataset"
   ]
  },
  {
   "cell_type": "code",
   "execution_count": 8,
   "metadata": {},
   "outputs": [],
   "source": [
    "X_train = pd.read_pickle('dataset/binaryenc_normalized/split/X_train.pkl')\n",
    "X_test = pd.read_pickle('dataset/binaryenc_normalized/split/X_test.pkl')\n",
    "y_train = pd.read_pickle('dataset/binaryenc_normalized/split/y_train.pkl')\n",
    "y_test = pd.read_pickle('dataset/binaryenc_normalized/split/y_test.pkl')"
   ]
  },
  {
   "cell_type": "markdown",
   "metadata": {},
   "source": [
    "# Training Model"
   ]
  },
  {
   "cell_type": "code",
   "execution_count": null,
   "metadata": {},
   "outputs": [],
   "source": [
    "params = {\n",
    " 'learning_rate' : [0.05,0.10,0.15],\n",
    " 'max_depth' : [ 6, 7, 8, 9, 10],\n",
    "}\n",
    "\n",
    "model = lgb.LGBMClassifier(learning_rate=0.4,max_depth=-6,random_state=45)\n",
    "model.fit(X_train,y_train,eval_set=[(X_test,y_test)] ,eval_metric='logloss')\n",
    "\n",
    "# LGBModel = RandomizedSearchCV(model, param_distributions=params, scoring='roc_auc')\n",
    "\n",
    "# Search = LGBModel.fit(X_train,y_train,eval_set=[(X_test,y_test)] ,eval_metric='logloss')\n",
    "\n",
    "# Search.best_estimator_\n",
    "\n",
    "pickle.dump(model,open('LGBModel.p','wb'))"
   ]
  },
  {
   "cell_type": "code",
   "execution_count": 10,
   "metadata": {},
   "outputs": [
    {
     "data": {
      "text/plain": [
       "0.9571862853852472"
      ]
     },
     "execution_count": 10,
     "metadata": {},
     "output_type": "execute_result"
    }
   ],
   "source": [
    "from sklearn.ensemble import RandomForestClassifier\n",
    "\n",
    "model = RandomForestClassifier(criterion = \"entropy\", n_estimators=50, max_depth=9)\n",
    "model.fit(X_train, y_train)\n",
    "\n",
    "model.score(X_test, y_test)"
   ]
  },
  {
   "cell_type": "code",
   "execution_count": 11,
   "metadata": {},
   "outputs": [],
   "source": [
    "pickle.dump(model,open('RandomForest.p','wb'))"
   ]
  }
 ],
 "metadata": {
  "interpreter": {
   "hash": "a325ff9a6ac47b81968413268c6d3c518e5b6a56dc159c59fe96222a55dac8d8"
  },
  "kernelspec": {
   "display_name": "Python 3.10.4 64-bit (windows store)",
   "language": "python",
   "name": "python3"
  },
  "language_info": {
   "codemirror_mode": {
    "name": "ipython",
    "version": 3
   },
   "file_extension": ".py",
   "mimetype": "text/x-python",
   "name": "python",
   "nbconvert_exporter": "python",
   "pygments_lexer": "ipython3",
   "version": "3.10.4"
  },
  "orig_nbformat": 4
 },
 "nbformat": 4,
 "nbformat_minor": 2
}
