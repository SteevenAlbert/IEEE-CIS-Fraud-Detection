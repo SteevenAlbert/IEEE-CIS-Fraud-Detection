{
 "cells": [
  {
   "cell_type": "code",
   "execution_count": 3,
   "metadata": {},
   "outputs": [],
   "source": [
    "import numpy as np\n",
    "import pandas as pd\n",
    "from sklearn import linear_model"
   ]
  },
  {
   "cell_type": "code",
   "execution_count": 4,
   "metadata": {},
   "outputs": [],
   "source": [
    "from sklearn.experimental import enable_halving_search_cv  # noqa\n",
    "from sklearn.model_selection import HalvingGridSearchCV"
   ]
  },
  {
   "cell_type": "code",
   "execution_count": 5,
   "metadata": {},
   "outputs": [],
   "source": [
    "X_train = pd.read_pickle('dataset/X_train.pkl')\n",
    "X_test = pd.read_pickle('dataset/X_test.pkl')\n",
    "y_train = pd.read_pickle('dataset/y_train.pkl')\n",
    "y_test = pd.read_pickle('dataset/y_test.pkl')"
   ]
  },
  {
   "cell_type": "code",
   "execution_count": 10,
   "metadata": {},
   "outputs": [],
   "source": [
    "hyperparameters = {\n",
    " 'C': [0.1, 1, 100, 1000],\n",
    " 'gamma': [0.0001, 0.001, 0.005, 0.1, 1, 3, 5],\n",
    " 'kernel': ('linear', 'rbf')\n",
    "}"
   ]
  },
  {
   "cell_type": "code",
   "execution_count": 11,
   "metadata": {},
   "outputs": [],
   "source": [
    "from sklearn.svm import SVC"
   ]
  },
  {
   "cell_type": "code",
   "execution_count": 12,
   "metadata": {},
   "outputs": [],
   "source": [
    "grid = HalvingGridSearchCV(\n",
    " estimator=SVC(),\n",
    " param_grid=hyperparameters,\n",
    " cv=5, \n",
    " scoring='f1_micro', \n",
    " n_jobs=-1)\n",
    "grid.fit(X_train, y_train)"
   ]
  },
  {
   "cell_type": "code",
   "execution_count": null,
   "metadata": {},
   "outputs": [
    {
     "name": "stdout",
     "output_type": "stream",
     "text": [
      "Best parameters: {'C': 100, 'gamma': 0.005, 'kernel': 'rbf'}\n",
      "Best score: 0.9781781781781781\n"
     ]
    }
   ],
   "source": [
    "print(f'Best parameters: {grid.best_params_}')\n",
    "print(f'Best score: {grid.best_score_}')"
   ]
  }
 ],
 "metadata": {
  "interpreter": {
   "hash": "226cf370dbd844c708420f3a31cce33ddbe56af589223fdd5c8052396dea6bd7"
  },
  "kernelspec": {
   "display_name": "Python 3.10.4 64-bit (windows store)",
   "language": "python",
   "name": "python3"
  },
  "language_info": {
   "codemirror_mode": {
    "name": "ipython",
    "version": 3
   },
   "file_extension": ".py",
   "mimetype": "text/x-python",
   "name": "python",
   "nbconvert_exporter": "python",
   "pygments_lexer": "ipython3",
   "version": "3.10.4"
  },
  "orig_nbformat": 4
 },
 "nbformat": 4,
 "nbformat_minor": 2
}
