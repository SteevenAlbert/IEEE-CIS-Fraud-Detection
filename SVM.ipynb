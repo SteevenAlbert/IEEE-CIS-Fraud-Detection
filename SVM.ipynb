{
 "cells": [
  {
   "cell_type": "code",
   "execution_count": 1,
   "metadata": {},
   "outputs": [],
   "source": [
    "#Import svm model\n",
    "from sklearn import svm\n",
    "import lightgbm as lgb\n",
    "import pandas as pd\n",
    "import numpy as np\n",
    "from sklearn import metrics\n",
    "import pickle\n",
    "from sklearn.model_selection import GridSearchCV"
   ]
  },
  {
   "cell_type": "code",
   "execution_count": 2,
   "metadata": {},
   "outputs": [],
   "source": [
    "X_train = pd.read_pickle('dataset/binaryenc_normalized/split/X_train.pkl')\n",
    "X_test = pd.read_pickle('dataset/binaryenc_normalized/split/X_test.pkl')\n",
    "y_train = pd.read_pickle('dataset/binaryenc_normalized/split/y_train.pkl')\n",
    "y_test = pd.read_pickle('dataset/binaryenc_normalized/split/y_test.pkl')"
   ]
  },
  {
   "cell_type": "code",
   "execution_count": 4,
   "metadata": {},
   "outputs": [],
   "source": [
    "param_grid={'C':[0.1,1],'gamma':[0.001,0.1,1],'kernel':['rbf','poly']}\n",
    "svc=svm.SVC(probability=True)\n",
    "model=GridSearchCV(svc,param_grid)\n",
    "model.fit(X_train, y_train)\n",
    "pickle.dump(model,open('SVM.p','wb'))"
   ]
  }
 ],
 "metadata": {
  "interpreter": {
   "hash": "a325ff9a6ac47b81968413268c6d3c518e5b6a56dc159c59fe96222a55dac8d8"
  },
  "kernelspec": {
   "display_name": "Python 3.10.4 64-bit (windows store)",
   "language": "python",
   "name": "python3"
  },
  "language_info": {
   "codemirror_mode": {
    "name": "ipython",
    "version": 3
   },
   "file_extension": ".py",
   "mimetype": "text/x-python",
   "name": "python",
   "nbconvert_exporter": "python",
   "pygments_lexer": "ipython3",
   "version": "3.10.5"
  },
  "orig_nbformat": 4
 },
 "nbformat": 4,
 "nbformat_minor": 2
}
